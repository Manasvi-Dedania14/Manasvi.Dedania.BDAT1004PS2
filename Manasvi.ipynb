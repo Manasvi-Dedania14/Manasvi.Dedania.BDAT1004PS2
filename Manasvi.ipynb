{
 "cells": [
  {
   "cell_type": "markdown",
   "id": "30f8a170",
   "metadata": {},
   "source": [
    "Question 1\n",
    "Consider the following Python module:"
   ]
  },
  {
   "cell_type": "code",
   "execution_count": 2,
   "id": "bb36eb3f",
   "metadata": {},
   "outputs": [],
   "source": [
    "a = 0\n",
    "def b():\n",
    " global a\n",
    " a = c(a)\n",
    "def c(a):\n",
    " return a + 2"
   ]
  },
  {
   "cell_type": "code",
   "execution_count": 3,
   "id": "8716e590",
   "metadata": {},
   "outputs": [
    {
     "data": {
      "text/plain": [
       "6"
      ]
     },
     "execution_count": 3,
     "metadata": {},
     "output_type": "execute_result"
    }
   ],
   "source": [
    "b()\n",
    "b()\n",
    "b()\n",
    "a"
   ]
  },
  {
   "cell_type": "code",
   "execution_count": null,
   "id": "cc4eefd8",
   "metadata": {},
   "outputs": [],
   "source": [
    "# Explaination\n",
    "We got 6 in my last expression when (a) is evaluated.\n",
    "EveryTime 2 is added.\n",
    "b() => a is 0 + 2 = 2 \n",
    "b() => a is 2 + 2 = 4\n",
    "b() => a is 4 + 2 = 6\n",
    "\n",
    "Finally,a is 6"
   ]
  },
  {
   "cell_type": "markdown",
   "id": "8c090d00",
   "metadata": {},
   "source": [
    "Question 2\n",
    "Function fileLength(), given to you, takes the name of a file as input and returns\n",
    "the length of the file:"
   ]
  },
  {
   "cell_type": "code",
   "execution_count": 7,
   "id": "0b55150a",
   "metadata": {},
   "outputs": [],
   "source": [
    "import os\n",
    "def fileLength(filename):\n",
    "  try:\n",
    "#here, it count total length of file    \n",
    "    length = os.path.getsize(filename)\n",
    "\n",
    "    print (length) \n",
    "  except FileNotFoundError:\n",
    "  print(\"File \",str(filename),\"is not found\")"
   ]
  },
  {
   "cell_type": "code",
   "execution_count": 12,
   "id": "43d0827a",
   "metadata": {},
   "outputs": [
    {
     "name": "stdout",
     "output_type": "stream",
     "text": [
      "File  idterm.py is not found\n"
     ]
    }
   ],
   "source": [
    "fileLength('idterm.py')"
   ]
  },
  {
   "cell_type": "code",
   "execution_count": 11,
   "id": "2ce92ada",
   "metadata": {},
   "outputs": [
    {
     "name": "stdout",
     "output_type": "stream",
     "text": [
      "127\n"
     ]
    }
   ],
   "source": [
    "fileLength('C:/Users/Manasvi/Desktop/Filelength.txt')"
   ]
  },
  {
   "cell_type": "markdown",
   "id": "e886e5a8",
   "metadata": {},
   "source": [
    "Question 3\n",
    "Write a class named Marsupial that can be used as shown below:"
   ]
  },
  {
   "cell_type": "code",
   "execution_count": 20,
   "id": "8e139fba",
   "metadata": {},
   "outputs": [],
   "source": [
    "class Marsupial:\n",
    "    def __init__(self):\n",
    "        self.list = []\n",
    "    def put_in_pouch(self, item):\n",
    "        self.list.append(item)\n",
    "    def pouch_contents(self):\n",
    "        return self.list\n",
    "class Kangaroo(Marsupial):\n",
    "    \n",
    "    def __init__(self,x,y):\n",
    "        Marsupial.__init__(self)\n",
    "        self.x = x\n",
    "        self.y = y\n",
    "    def jump(self,dx,dy):\n",
    "        self.x += dx\n",
    "        self.y += dy\n",
    "    def __str__(self):\n",
    "        return 'I am a Kangaroo located at coordinates ({},{})'.format(self.x,self.y)"
   ]
  },
  {
   "cell_type": "code",
   "execution_count": 21,
   "id": "6290f7f4",
   "metadata": {},
   "outputs": [
    {
     "name": "stdout",
     "output_type": "stream",
     "text": [
      "I am a Kangaroo located at coordinates (0,0)\n"
     ]
    }
   ],
   "source": [
    "K = Kangaroo(0,0)\n",
    "print(K)"
   ]
  },
  {
   "cell_type": "code",
   "execution_count": 22,
   "id": "5efcac36",
   "metadata": {},
   "outputs": [
    {
     "name": "stdout",
     "output_type": "stream",
     "text": [
      "['doll', 'firetruck', 'kitten']\n"
     ]
    }
   ],
   "source": [
    "K.put_in_pouch('doll')\n",
    "K.put_in_pouch('firetruck')\n",
    "K.put_in_pouch('kitten')\n",
    "print(K.pouch_contents())"
   ]
  },
  {
   "cell_type": "code",
   "execution_count": 19,
   "id": "835022e3",
   "metadata": {},
   "outputs": [
    {
     "name": "stdout",
     "output_type": "stream",
     "text": [
      "I am a Kangaroo located at coordinates (3,0)\n"
     ]
    }
   ],
   "source": [
    "K.jump(1,0)\n",
    "K.jump(1,0)\n",
    "K.jump(1,0)\n",
    "print(K)"
   ]
  },
  {
   "cell_type": "markdown",
   "id": "88c44698",
   "metadata": {},
   "source": [
    "Question 4\n",
    "Write function collatz() that takes a positive integer x as input and prints the\n",
    "Collatz sequence starting at x. A Collatz sequence is obtained by repeatedly applying\n",
    "this rule to the previous number x in the sequence:\n",
    "x = {\n",
    "𝑥/2 𝑖𝑓 𝑥 𝑖𝑠 𝑒𝑣𝑒𝑛\n",
    "3𝑥 + 1 𝑖𝑓 𝑥 𝑖𝑠 𝑜𝑑𝑑\n",
    "Your function should stop when the sequence gets to number 1. Your\n",
    "implementation must be recursive, without any loops."
   ]
  },
  {
   "cell_type": "code",
   "execution_count": 30,
   "id": "085ca4c4",
   "metadata": {},
   "outputs": [],
   "source": [
    "def collatz(x):\n",
    "    print(x)\n",
    "    if x==1:\n",
    "        \n",
    "        return   \n",
    "    elif x%2==0:\n",
    "        \n",
    "        return collatz(x/2) \n",
    "    else:\n",
    "        return collatz(3*x+1) \n",
    "       "
   ]
  },
  {
   "cell_type": "code",
   "execution_count": 31,
   "id": "cf1190dc",
   "metadata": {},
   "outputs": [
    {
     "name": "stdout",
     "output_type": "stream",
     "text": [
      "10\n",
      "5.0\n",
      "16.0\n",
      "8.0\n",
      "4.0\n",
      "2.0\n",
      "1.0\n"
     ]
    }
   ],
   "source": [
    "collatz(10)"
   ]
  },
  {
   "cell_type": "code",
   "execution_count": 29,
   "id": "59f86c89",
   "metadata": {},
   "outputs": [
    {
     "name": "stdout",
     "output_type": "stream",
     "text": [
      "1\n"
     ]
    }
   ],
   "source": [
    " collatz(1)"
   ]
  },
  {
   "cell_type": "markdown",
   "id": "68c57f87",
   "metadata": {},
   "source": [
    "Question 5\n",
    "Write a recursive method binary() that takes a non-negative\n",
    "integer n and prints the binary representation of integer n.\n"
   ]
  },
  {
   "cell_type": "code",
   "execution_count": 48,
   "id": "f4ca8e41",
   "metadata": {},
   "outputs": [],
   "source": [
    "def binary(digit):               \n",
    "    if(digit > 0):\n",
    "        binary(digit // 2)\n",
    "        print(digit % 2, end = '')"
   ]
  },
  {
   "cell_type": "code",
   "execution_count": 49,
   "id": "e096cf24",
   "metadata": {},
   "outputs": [
    {
     "name": "stdout",
     "output_type": "stream",
     "text": [
      "10"
     ]
    }
   ],
   "source": [
    " binary(2)"
   ]
  },
  {
   "cell_type": "code",
   "execution_count": 50,
   "id": "f4a6a089",
   "metadata": {},
   "outputs": [
    {
     "name": "stdout",
     "output_type": "stream",
     "text": [
      "11"
     ]
    }
   ],
   "source": [
    " binary(3)"
   ]
  },
  {
   "cell_type": "code",
   "execution_count": 51,
   "id": "90e59dfb",
   "metadata": {},
   "outputs": [
    {
     "name": "stdout",
     "output_type": "stream",
     "text": [
      "1001"
     ]
    }
   ],
   "source": [
    " binary(9)"
   ]
  },
  {
   "cell_type": "markdown",
   "id": "e95dfa0c",
   "metadata": {},
   "source": [
    "Question 6\n",
    "Implement a class named HeadingParser that can be used to parse an HTML\n",
    "document, and retrieve and print all the headings in the document. You should\n",
    "implement your class as a subclass of HTMLParser, defined in Standard Library\n",
    "module html.parser. When fed a string containing HTML code, your class should\n",
    "print the headings, one per line and in the order in which they appear in the\n",
    "document. Each heading should be indented as follows: an h1 heading should have\n",
    "indentation 0, and h2 heading should have indentation 1, etc. Test your\n",
    "implementation using w3c.html."
   ]
  },
  {
   "cell_type": "code",
   "execution_count": 61,
   "id": "6784c97f",
   "metadata": {},
   "outputs": [],
   "source": [
    "from urllib.parse import urljoin\n",
    "from html.parser import HTMLParser\n",
    "class HeadingParser(HTMLParser):\n",
    "#created tags function when it gets heading tags  \n",
    "    def tags(self,tag,attrs):      \n",
    "        if tag == \"h1\":\n",
    "#h1 heading have indentation 0\n",
    "            self.headerFlag = True\n",
    "            self.indent=0\n",
    "        elif tag == \"h2\":\n",
    "            self.headerFlag = True\n",
    "            self.indent=1\n",
    "        elif tag == \"h3\":\n",
    "            self.headerFlag = True\n",
    "            self.indent=2\n",
    "        elif tag == \"h4\":\n",
    "            self.headerFlag = True\n",
    "            self.indent=3\n",
    "        elif tag == \"h5\":\n",
    "            self.headerFlag = True\n",
    "            self.indent=4\n",
    "        elif tag == \"h6\":\n",
    "            self.headerFlag = True\n",
    "            self.indent=5\n",
    "        else:\n",
    "            self.headerFlag = False\n",
    "            self.indent=0  \n",
    "    def tags2(self,tag,attrs):\n",
    "        if tag in [\"h1\",\"h2\",\"h3\",\"h4\",\"h5\",\"h6\"]:\n",
    "            self.headerFlag = True\n",
    "\n",
    "infile = open('C:/Users/Manasvi/Desktop/w3c.html')\n",
    "content = infile.read()\n",
    "infile.close()\n",
    "hp = HeadingParser()\n",
    "hp.feed(content)"
   ]
  },
  {
   "cell_type": "markdown",
   "id": "213dbec4",
   "metadata": {},
   "source": [
    "Question 7\n",
    "Implement recursive function webdir() that takes as input: a URL (as a string) and\n",
    "non-negative integers depth and indent. Your function should visit every web\n",
    "page reachable from the starting URL web page in depth clicks or less, and print\n",
    "each web page's URL. As shown below, indentation, specified by indent, should\n",
    "be used to indicate the depth of a URL.\n"
   ]
  },
  {
   "cell_type": "code",
   "execution_count": 63,
   "id": "de32e983",
   "metadata": {},
   "outputs": [],
   "source": [
    "from urllib.request import urlopen\n",
    "from urllib.parse import urljoin\n",
    "\n",
    "from html.parser import HTMLParser\n",
    "\n",
    "def webdir(url):\n",
    "\n",
    "    print('http://reed.cs.depaul.edu/lperkovic/csc242/test1.html', 2, 0, url)\n",
    "\n",
    "    #for obtain links in the web page\n",
    "    content = urlopen(url).read().decode()\n",
    "    collector = Collector(url)\n",
    "    collector.feed(content)\n",
    "    urls = collector.getLinks()          \n",
    "    # to get list of links\n",
    "\n",
    "  \n",
    "    print('\\n{:45} {:10}'.format('URL', 'link'))\n",
    "    for link in urls:\n",
    "        print('{:45} {:10}'.format(url, link))\n",
    "\n",
    "    return urls"
   ]
  },
  {
   "cell_type": "markdown",
   "id": "34ddd74d",
   "metadata": {},
   "source": [
    "Question 8\n",
    "Write SQL queries on the below database table that return:"
   ]
  },
  {
   "cell_type": "code",
   "execution_count": null,
   "id": "dc30c5f9",
   "metadata": {},
   "outputs": [],
   "source": [
    "(A) \n",
    "\n",
    "SELECT Temperature()\n",
    "From table;\n",
    "\n",
    "(B)\n",
    "\n",
    "SELECT DISTINCT(City)\n",
    "FROM table;\n",
    "\n",
    "(C)\n",
    "\n",
    "SELECT*\n",
    "FROM table\n",
    "WHERE Country = \"India\";\n",
    "\n",
    "(D)\n",
    "\n",
    "SELECT*\n",
    "FROM table\n",
    "WHERE Season = \"Fall\";\n",
    "\n",
    "(E)\n",
    "\n",
    "SELET City,Country,Season\n",
    "FROM table\n",
    "WHERE AVG(Rainfall(mm)) between 200 and 400;\n",
    "\n",
    "(F)\n",
    "\n",
    "SELET City,Country,Season\n",
    "FROM table\n",
    "WHERE AVG(Temperature) > 20\n",
    "GROUP BY Season = \"Fall\";\n",
    "\n",
    "(G)\n",
    "\n",
    "SELECT SUM(Rainfall(mm))\n",
    "WHERE City = \"Cairo\";\n",
    "\n",
    "(H)\n",
    "\n",
    "SELECT SUM(Rainfall(mm)),Season\n",
    "FROM table\n",
    "GROUP BY(Season);"
   ]
  },
  {
   "cell_type": "markdown",
   "id": "03103bfa",
   "metadata": {},
   "source": [
    "Question 9\n",
    "Suppose list words is defined as follows:\n",
    "\n",
    "Write list comprehension expressions that use list words and generate the following\n",
    "lists:"
   ]
  },
  {
   "cell_type": "code",
   "execution_count": 70,
   "id": "050552ad",
   "metadata": {},
   "outputs": [
    {
     "name": "stdout",
     "output_type": "stream",
     "text": [
      "['THE', 'QUICK', 'BROWN', 'FOX', 'JUMPS', 'OVER', 'THE', 'LAZY', 'DOG']\n"
     ]
    }
   ],
   "source": [
    "print([x.upper() for x in words])"
   ]
  },
  {
   "cell_type": "code",
   "execution_count": 72,
   "id": "b8aba6b3",
   "metadata": {},
   "outputs": [
    {
     "name": "stdout",
     "output_type": "stream",
     "text": [
      "['the', 'quick', 'brown', 'fox', 'jumps', 'over', 'the', 'lazy', 'dog']\n"
     ]
    }
   ],
   "source": [
    "print([x.lower() for x in words])"
   ]
  },
  {
   "cell_type": "code",
   "execution_count": 73,
   "id": "06f3c6a5",
   "metadata": {},
   "outputs": [
    {
     "name": "stdout",
     "output_type": "stream",
     "text": [
      "[3, 5, 5, 3, 5, 4, 3, 4, 3]\n"
     ]
    }
   ],
   "source": [
    "print([len(x) for x in words])"
   ]
  },
  {
   "cell_type": "code",
   "execution_count": 74,
   "id": "da238224",
   "metadata": {},
   "outputs": [
    {
     "name": "stdout",
     "output_type": "stream",
     "text": [
      "[['THE', 'the', 3], ['QUICK', 'quick', 5], ['BROWN', 'brown', 5], ['FOX', 'fox', 3], ['JUMPS', 'jumps', 5], ['OVER', 'over', 4], ['THE', 'the', 3], ['LAZY', 'lazy', 4], ['DOG', 'dog', 3]]\n"
     ]
    }
   ],
   "source": [
    "print([[x.upper(),x.lower(),len(x)] for x in words] )"
   ]
  },
  {
   "cell_type": "code",
   "execution_count": 75,
   "id": "ff277125",
   "metadata": {},
   "outputs": [
    {
     "name": "stdout",
     "output_type": "stream",
     "text": [
      "['quick', 'brown', 'jumps', 'over', 'lazy']\n"
     ]
    }
   ],
   "source": [
    "print([x.lower() for x in words if len(x)>=4])"
   ]
  },
  {
   "cell_type": "code",
   "execution_count": null,
   "id": "8b299196",
   "metadata": {},
   "outputs": [],
   "source": []
  }
 ],
 "metadata": {
  "kernelspec": {
   "display_name": "Python 3 (ipykernel)",
   "language": "python",
   "name": "python3"
  },
  "language_info": {
   "codemirror_mode": {
    "name": "ipython",
    "version": 3
   },
   "file_extension": ".py",
   "mimetype": "text/x-python",
   "name": "python",
   "nbconvert_exporter": "python",
   "pygments_lexer": "ipython3",
   "version": "3.9.7"
  }
 },
 "nbformat": 4,
 "nbformat_minor": 5
}
